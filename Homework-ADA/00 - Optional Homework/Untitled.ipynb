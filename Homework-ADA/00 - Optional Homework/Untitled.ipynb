{
 "cells": [
  {
   "cell_type": "code",
   "execution_count": 3,
   "metadata": {},
   "outputs": [],
   "source": [
    "import csv"
   ]
  },
  {
   "cell_type": "code",
   "execution_count": 6,
   "metadata": {},
   "outputs": [],
   "source": [
    "tot_death = 0\n",
    "tot_suicide = 0\n",
    "tot_suicide_male = 0\n",
    "tot_homicide = 0\n",
    "tot_hom_male_young = 0\n",
    "tot_hom_male_young_black = 0\n",
    "tot_hom_women = 0\n",
    "nb_line = 0"
   ]
  },
  {
   "cell_type": "code",
   "execution_count": 15,
   "metadata": {},
   "outputs": [
    {
     "name": "stdout",
     "output_type": "stream",
     "text": [
      "Percentage of gun death being suicide :  0.6267448435965356\n",
      "Percentage of suicide victims being male 0.8624750688574414\n",
      "Percentage of gun death being homicide :  0.3489984820976815\n",
      "Percentage of homicide victims who are males and between 15 and 34 that are black :  0.6613496932515337\n",
      "Percentage of homicide victims that are women :  0.15273750639604297\n"
     ]
    }
   ],
   "source": [
    "with open('interactive_data.csv', \"r\") as gun_data :\n",
    "    csv_reader = csv.reader(gun_data, delimiter = ',')\n",
    "    for row in csv_reader :\n",
    "        if(row[2] == \"None selected\" and row[3] == \"None selected\" and row[4] == \"None selected\") :\n",
    "            if(row[1] == \"None selected\") :\n",
    "                tot_death = int(row[5], 10)\n",
    "            elif(row[1] == \"Suicide\") :\n",
    "                tot_suicide = int(row[5], 10)\n",
    "            elif(row[1] == \"Homicide\") :\n",
    "                tot_homicide = int(row[5], 10)\n",
    "        elif(row[1] == \"Suicide\" and row[2] == \"Male\" and row[3] == \"None selected\" and row[4] == \"None selected\") :\n",
    "            tot_suicide_male = int(row[5], 10)\n",
    "        elif(row[1] == \"Homicide\" and row[2] == \"Male\" and row[3] == \"15 - 34\") :\n",
    "            if(row[4] == \"None selected\") :\n",
    "                tot_hom_male_young = int(row[5], 10)\n",
    "            elif(row[4] == \"Black\") :\n",
    "                tot_hom_male_young_black = int(row[5], 10)\n",
    "        elif(row[1] == \"Homicide\" and row[2] == \"Female\" and row[3] == \"None selected\" and row[4] == \"None selected\") :\n",
    "            tot_hom_women = int(row[5], 10)\n",
    "        \n",
    "print(\"Percentage of gun death being suicide : \", tot_suicide / tot_death)\n",
    "print(\"Percentage of suicide victims being male\", tot_suicide_male / tot_suicide)\n",
    "print(\"Percentage of gun death being homicide : \", tot_homicide / tot_death)\n",
    "print(\"Percentage of homicide victims who are males and between 15 and 34 that are black : \", tot_hom_male_young_black / tot_hom_male_young)\n",
    "print(\"Percentage of homicide victims that are women : \", tot_hom_women / tot_homicide) "
   ]
  }
 ],
 "metadata": {
  "kernelspec": {
   "display_name": "Python 3",
   "language": "python",
   "name": "python3"
  },
  "language_info": {
   "codemirror_mode": {
    "name": "ipython",
    "version": 3
   },
   "file_extension": ".py",
   "mimetype": "text/x-python",
   "name": "python",
   "nbconvert_exporter": "python",
   "pygments_lexer": "ipython3",
   "version": "3.8.5"
  }
 },
 "nbformat": 4,
 "nbformat_minor": 4
}
